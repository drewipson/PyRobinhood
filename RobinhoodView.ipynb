{
 "nbformat": 4,
 "nbformat_minor": 2,
 "metadata": {
  "language_info": {
   "name": "python",
   "codemirror_mode": {
    "name": "ipython",
    "version": 3
   },
   "version": "3.7.7-final"
  },
  "orig_nbformat": 2,
  "file_extension": ".py",
  "mimetype": "text/x-python",
  "name": "python",
  "npconvert_exporter": "python",
  "pygments_lexer": "ipython3",
  "version": 3,
  "kernelspec": {
   "name": "python37764bitrobinhoodconda72a9d469b08540de818b9f3251aaae35",
   "display_name": "Python 3.7.7 64-bit ('robinhood': conda)"
  }
 },
 "cells": [
  {
   "cell_type": "code",
   "execution_count": null,
   "metadata": {},
   "outputs": [],
   "source": [
    "\"\"\"\n",
    "Stock Analysis Project | April 19, 2020\n",
    "The purpose of this notebook is to increase my financial analysis skills using my stock portfolio on Robinhood. The notebook will do the following:\n",
    "    * Build a general view of my portfolio\n",
    "    * Build watchlists of stocks I own by industry and desired rate of return\n",
    "    * Analyze potential stocks with watchlists of stocks I don't own \n",
    "\"\"\""
   ]
  },
  {
   "cell_type": "code",
   "execution_count": null,
   "metadata": {},
   "outputs": [],
   "source": [
    "import robin_stocks as rs\n",
    "from getpass import getpass"
   ]
  },
  {
   "cell_type": "code",
   "execution_count": null,
   "metadata": {},
   "outputs": [],
   "source": [
    "# Login and Build Portfolio\n",
    "username = input(\"Username: \")\n",
    "password = getpass(\"Password: \")\n",
    "\n",
    "rs.login(username,password)"
   ]
  },
  {
   "cell_type": "code",
   "execution_count": null,
   "metadata": {},
   "outputs": [],
   "source": [
    "portfolio = rs.build_holdings()"
   ]
  },
  {
   "cell_type": "code",
   "execution_count": 80,
   "metadata": {},
   "outputs": [],
   "source": [
    "class portfolioStock:\n",
    "\n",
    "    def __init__(self, ticker, name, price, quantity, equity, avg_buy_price, percent_change):\n",
    "        self.ticker = ticker\n",
    "        self.name = name\n",
    "        self.price = price\n",
    "        self.quantity = quantity\n",
    "        self.equity = equity\n",
    "        self.avg_buy_price = avg_buy_price\n",
    "        self.percent_change = percent_change\n",
    "\n",
    "    def format_values(self, value):\n",
    "        # Format value less than 10 but 1 decimal place\n",
    "        if round(float(value),2) < 10 and len(str(round(float(value),2))) == 3:\n",
    "            return '0' + str(round(float(value),2)) + '0'\n",
    "        # Format value less than 10 but 2 decimal places\n",
    "        elif round(float(value),2) < 10 and len(str(round(float(value),2))) == 4:\n",
    "            return '0' + str(round(float(value),2))\n",
    "        # Format value greater than 10 but 1 decimal place\n",
    "        elif round(float(value),2) >= 10 and len(str(round(float(value),2))) == 4 or len(str(round(float(value),2))) == 3:\n",
    "            return str(round(float(value),2)) + '0'\n",
    "        # Format value greater than 100 but 1 decimal place \n",
    "        elif round(float(value),2) > 100 and len(str(round(float(value),2))) == 5:\n",
    "            return str(round(float(value),1))\n",
    "        else:\n",
    "            return str(round(float(value),2))\n",
    "\n",
    "    def stock_table_view(self):\n",
    "        # ticker\n",
    "        if len(self.ticker) < 4:\n",
    "            ticker = self.ticker + ' '\n",
    "        else:\n",
    "            ticker = self.ticker.strip()\n",
    "        # format price, quantity, equity, and average buy values with function\n",
    "        price = self.format_values(self.price)\n",
    "        quantity = self.format_values(self.quantity)\n",
    "        equity = self.format_values(self.equity)\n",
    "        average_buy = self.format_values(self.avg_buy_price)\n",
    "        # percent change format\n",
    "        if float(self.percent_change) == 0:\n",
    "            percent_change = ' 0' + self.percent_change + '%'\n",
    "        elif float(self.percent_change) > 0:\n",
    "            percent_change = '+' + self.percent_change + '%'\n",
    "        elif float(self.percent_change) < 0 and float(self.percent_change) > -10:\n",
    "            percent_change = ' ' + self.percent_change + '%'\n",
    "        else:\n",
    "            percent_change = self.percent_change + '%'\n",
    "        # return values in table format\n",
    "        print(f\"{ticker} | {price} | {average_buy}  | {quantity} | {equity} | {percent_change}\")\n",
    ""
   ]
  },
  {
   "cell_type": "code",
   "execution_count": 81,
   "metadata": {},
   "outputs": [],
   "source": [
    "stocks = []\n",
    "for stock in portfolio:\n",
    "    share = portfolioStock(stock, portfolio[stock]['name'], portfolio[stock]['price'], portfolio[stock]['quantity'], portfolio[stock]['equity'], portfolio[stock]['average_buy_price'], portfolio[stock]['percent_change'])\n",
    "    stocks.append(share)"
   ]
  },
  {
   "cell_type": "code",
   "execution_count": 84,
   "metadata": {},
   "outputs": [
    {
     "output_type": "stream",
     "name": "stdout",
     "text": "Ticker | Price | Buy | Quantity | Equity | ROI \n================================================\nHAL  | 07.68 | 04.79  | 20.00 | 153.6 | +60.33%\nMRO  | 04.27 | 02.48  | 08.00 | 34.16 | +72.53%\nCCL  | 12.22 | 11.02  | 05.00 | 61.10 | +10.89%\nAAL  | 11.08 | 11.34  | 05.00 | 55.40 |  -2.29%\nNCLH | 11.58 | 07.50  | 08.00 | 92.64 | +54.40%\nMGM  | 13.71 | 07.17  | 07.00 | 95.97 | +91.21%\nGLUU | 07.98 | 00.00  | 01.00 | 07.98 |  00.00%\nOXY  | 12.68 | 10.89  | 02.00 | 25.36 | +16.44%\nAZUL | 09.50 | 10.80  | 02.00 | 19.00 | -12.04%\nBBBY | 04.53 | 04.95  | 10.00 | 45.30 |  -8.48%\nMFA  | 01.70 | 01.70  | 50.00 | 85.00 |  00.00%\nNRZ  | 05.07 | 05.15  | 10.00 | 50.70 |  -1.55%\n"
    }
   ],
   "source": [
    "print(\"Ticker | Price | Buy | Quantity | Equity | ROI \")\n",
    "print(\"===============================================\")\n",
    "for share in stocks:\n",
    "    share.stock_table_view()"
   ]
  },
  {
   "cell_type": "code",
   "execution_count": null,
   "metadata": {},
   "outputs": [],
   "source": []
  }
 ]
}
